{
 "cells": [
  {
   "cell_type": "code",
   "execution_count": 291,
   "metadata": {},
   "outputs": [],
   "source": [
    "import matplotlib.pyplot as plt \n",
    "import numpy as np\n",
    "import math as mth\n",
    "%matplotlib inline"
   ]
  },
  {
   "cell_type": "code",
   "execution_count": 346,
   "metadata": {},
   "outputs": [
    {
     "name": "stdout",
     "output_type": "stream",
     "text": [
      "[[0.90650738 0.81782504]\n",
      " [0.99097929 0.26133101]\n",
      " [0.09618496 0.87658281]\n",
      " [0.87601694 0.8105599 ]\n",
      " [0.81723467 0.54965867]\n",
      " [0.84115401 0.06827389]\n",
      " [0.20155752 0.05870045]\n",
      " [0.74208026 0.20437652]\n",
      " [0.72291244 0.85137273]\n",
      " [0.92607716 0.10691484]]\n"
     ]
    }
   ],
   "source": [
    "x=np.random.rand(10)\n",
    "y=np.random.rand(10)\n",
    "z=np.array((x,y)).T\n",
    "p=np.zeros(len(z))\n",
    "r=np.zeros(len(z))\n",
    "u=np.zeros(len(z))\n",
    "##print (x)\n",
    "print z\n",
    "##print (y)\n",
    "\n"
   ]
  },
  {
   "cell_type": "code",
   "execution_count": 347,
   "metadata": {
    "scrolled": true
   },
   "outputs": [
    {
     "name": "stdout",
     "output_type": "stream",
     "text": [
      "[[1.         0.73401348]\n",
      " [1.         0.25783986]\n",
      " [1.         1.46150637]\n",
      " [1.         0.74660704]\n",
      " [1.         0.59208779]\n",
      " [1.         0.08098939]\n",
      " [1.         0.28339554]\n",
      " [1.         0.26874759]\n",
      " [1.         0.86681689]\n",
      " [1.         0.11494031]]\n"
     ]
    }
   ],
   "source": [
    "r=np.ones(len(z))\n",
    "\n",
    " \n",
    "for i in range(len(z)):\n",
    "    p[i]=mth.atan(y[i]/x[i])\n",
    "##print p\n",
    "##print r\n",
    "polares=np.array((r,p)).T\n",
    "print polares\n",
    "\n"
   ]
  },
  {
   "cell_type": "code",
   "execution_count": 348,
   "metadata": {},
   "outputs": [
    {
     "data": {
      "image/png": "[encoded data removed]",
      "text/plain": [
       "<Figure size 432x288 with 1 Axes>"
      ]
     },
     "metadata": {
      "needs_background": "light"
     },
     "output_type": "display_data"
    }
   ],
   "source": [
    "g=plt.scatter(x,y,color='orange');\n",
    "\n"
   ]
  },
  {
   "cell_type": "code",
   "execution_count": 349,
   "metadata": {},
   "outputs": [
    {
     "data": {
      "image/png": "[encoded data removed]",
      "text/plain": [
       "<Figure size 432x288 with 1 Axes>"
      ]
     },
     "metadata": {
      "needs_background": "light"
     },
     "output_type": "display_data"
    }
   ],
   "source": [
    "plt.plot(polares,z,'-o');"
   ]
  },
  {
   "cell_type": "code",
   "execution_count": null,
   "metadata": {},
   "outputs": [],
   "source": []
  },
  {
   "cell_type": "code",
   "execution_count": null,
   "metadata": {},
   "outputs": [],
   "source": []
  },
  {
   "cell_type": "code",
   "execution_count": null,
   "metadata": {},
   "outputs": [],
   "source": []
  },
  {
   "cell_type": "code",
   "execution_count": null,
   "metadata": {},
   "outputs": [],
   "source": []
  },
  {
   "cell_type": "code",
   "execution_count": null,
   "metadata": {},
   "outputs": [],
   "source": []
  }
 ],
 "metadata": {
  "kernelspec": {
   "display_name": "Python 2",
   "language": "python",
   "name": "python2"
  },
  "language_info": {
   "codemirror_mode": {
    "name": "ipython",
    "version": 2
   },
   "file_extension": ".py",
   "mimetype": "text/x-python",
   "name": "python",
   "nbconvert_exporter": "python",
   "pygments_lexer": "ipython2",
   "version": "2.7.15"
  }
 },
 "nbformat": 4,
 "nbformat_minor": 2
}
